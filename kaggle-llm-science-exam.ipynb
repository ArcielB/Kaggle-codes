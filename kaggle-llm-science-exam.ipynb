{
 "cells": [
  {
   "cell_type": "code",
   "execution_count": 1,
   "id": "50e7f0ee",
   "metadata": {
    "_cell_guid": "b1076dfc-b9ad-4769-8c92-a6c4dae69d19",
    "_uuid": "8f2839f25d086af736a60e9eeb907d3b93b6e0e5",
    "execution": {
     "iopub.execute_input": "2023-08-29T11:20:19.341850Z",
     "iopub.status.busy": "2023-08-29T11:20:19.341414Z",
     "iopub.status.idle": "2023-08-29T11:20:19.357302Z",
     "shell.execute_reply": "2023-08-29T11:20:19.355954Z"
    },
    "papermill": {
     "duration": 0.023921,
     "end_time": "2023-08-29T11:20:19.360240",
     "exception": false,
     "start_time": "2023-08-29T11:20:19.336319",
     "status": "completed"
    },
    "tags": []
   },
   "outputs": [
    {
     "name": "stdout",
     "output_type": "stream",
     "text": [
      "/kaggle/input/kaggle-llm-science-exam/sample_submission.csv\n",
      "/kaggle/input/kaggle-llm-science-exam/train.csv\n",
      "/kaggle/input/kaggle-llm-science-exam/test.csv\n"
     ]
    }
   ],
   "source": [
    "# This Python 3 environment comes with many helpful analytics libraries installed\n",
    "# It is defined by the kaggle/python Docker image: https://github.com/kaggle/docker-python\n",
    "# For example, here's several helpful packages to load\n",
    "\n",
    "import numpy as np # linear algebra\n",
    "import pandas as pd # data processing, CSV file I/O (e.g. pd.read_csv)\n",
    "\n",
    "# Input data files are available in the read-only \"../input/\" directory\n",
    "# For example, running this (by clicking run or pressing Shift+Enter) will list all files under the input directory\n",
    "\n",
    "import os\n",
    "for dirname, _, filenames in os.walk('/kaggle/input'):\n",
    "    for filename in filenames:\n",
    "        print(os.path.join(dirname, filename))\n",
    "\n",
    "# You can write up to 20GB to the current directory (/kaggle/working/) that gets preserved as output when you create a version using \"Save & Run All\" \n",
    "# You can also write temporary files to /kaggle/temp/, but they won't be saved outside of the current session"
   ]
  },
  {
   "cell_type": "code",
   "execution_count": 2,
   "id": "1ffb1b3c",
   "metadata": {
    "execution": {
     "iopub.execute_input": "2023-08-29T11:20:19.369407Z",
     "iopub.status.busy": "2023-08-29T11:20:19.368023Z",
     "iopub.status.idle": "2023-08-29T11:20:19.413378Z",
     "shell.execute_reply": "2023-08-29T11:20:19.412110Z"
    },
    "papermill": {
     "duration": 0.052751,
     "end_time": "2023-08-29T11:20:19.416156",
     "exception": false,
     "start_time": "2023-08-29T11:20:19.363405",
     "status": "completed"
    },
    "tags": []
   },
   "outputs": [],
   "source": [
    "sample_submission = pd.read_csv(\"/kaggle/input/kaggle-llm-science-exam/sample_submission.csv\", index_col='id')"
   ]
  },
  {
   "cell_type": "code",
   "execution_count": 3,
   "id": "7fa31913",
   "metadata": {
    "execution": {
     "iopub.execute_input": "2023-08-29T11:20:19.423844Z",
     "iopub.status.busy": "2023-08-29T11:20:19.423387Z",
     "iopub.status.idle": "2023-08-29T11:20:19.442258Z",
     "shell.execute_reply": "2023-08-29T11:20:19.441334Z"
    },
    "papermill": {
     "duration": 0.025414,
     "end_time": "2023-08-29T11:20:19.444582",
     "exception": false,
     "start_time": "2023-08-29T11:20:19.419168",
     "status": "completed"
    },
    "tags": []
   },
   "outputs": [
    {
     "data": {
      "text/html": [
       "<div>\n",
       "<style scoped>\n",
       "    .dataframe tbody tr th:only-of-type {\n",
       "        vertical-align: middle;\n",
       "    }\n",
       "\n",
       "    .dataframe tbody tr th {\n",
       "        vertical-align: top;\n",
       "    }\n",
       "\n",
       "    .dataframe thead th {\n",
       "        text-align: right;\n",
       "    }\n",
       "</style>\n",
       "<table border=\"1\" class=\"dataframe\">\n",
       "  <thead>\n",
       "    <tr style=\"text-align: right;\">\n",
       "      <th></th>\n",
       "      <th>prediction</th>\n",
       "    </tr>\n",
       "    <tr>\n",
       "      <th>id</th>\n",
       "      <th></th>\n",
       "    </tr>\n",
       "  </thead>\n",
       "  <tbody>\n",
       "    <tr>\n",
       "      <th>0</th>\n",
       "      <td>A B C</td>\n",
       "    </tr>\n",
       "    <tr>\n",
       "      <th>1</th>\n",
       "      <td>A B C</td>\n",
       "    </tr>\n",
       "    <tr>\n",
       "      <th>2</th>\n",
       "      <td>A B C</td>\n",
       "    </tr>\n",
       "    <tr>\n",
       "      <th>3</th>\n",
       "      <td>A B C</td>\n",
       "    </tr>\n",
       "    <tr>\n",
       "      <th>4</th>\n",
       "      <td>A B C</td>\n",
       "    </tr>\n",
       "  </tbody>\n",
       "</table>\n",
       "</div>"
      ],
      "text/plain": [
       "   prediction\n",
       "id           \n",
       "0       A B C\n",
       "1       A B C\n",
       "2       A B C\n",
       "3       A B C\n",
       "4       A B C"
      ]
     },
     "execution_count": 3,
     "metadata": {},
     "output_type": "execute_result"
    }
   ],
   "source": [
    "sample_submission.head()"
   ]
  },
  {
   "cell_type": "code",
   "execution_count": 4,
   "id": "a540eb5f",
   "metadata": {
    "execution": {
     "iopub.execute_input": "2023-08-29T11:20:19.453206Z",
     "iopub.status.busy": "2023-08-29T11:20:19.452179Z",
     "iopub.status.idle": "2023-08-29T11:20:19.461129Z",
     "shell.execute_reply": "2023-08-29T11:20:19.460080Z"
    },
    "papermill": {
     "duration": 0.016123,
     "end_time": "2023-08-29T11:20:19.463842",
     "exception": false,
     "start_time": "2023-08-29T11:20:19.447719",
     "status": "completed"
    },
    "tags": []
   },
   "outputs": [],
   "source": [
    "sample_submission.to_csv(\"submission.csv\")"
   ]
  },
  {
   "cell_type": "code",
   "execution_count": null,
   "id": "ebf7e1b3",
   "metadata": {
    "papermill": {
     "duration": 0.002931,
     "end_time": "2023-08-29T11:20:19.470052",
     "exception": false,
     "start_time": "2023-08-29T11:20:19.467121",
     "status": "completed"
    },
    "tags": []
   },
   "outputs": [],
   "source": []
  }
 ],
 "metadata": {
  "kernelspec": {
   "display_name": "Python 3",
   "language": "python",
   "name": "python3"
  },
  "language_info": {
   "codemirror_mode": {
    "name": "ipython",
    "version": 3
   },
   "file_extension": ".py",
   "mimetype": "text/x-python",
   "name": "python",
   "nbconvert_exporter": "python",
   "pygments_lexer": "ipython3",
   "version": "3.10.12"
  },
  "papermill": {
   "default_parameters": {},
   "duration": 14.148899,
   "end_time": "2023-08-29T11:20:20.395774",
   "environment_variables": {},
   "exception": null,
   "input_path": "__notebook__.ipynb",
   "output_path": "__notebook__.ipynb",
   "parameters": {},
   "start_time": "2023-08-29T11:20:06.246875",
   "version": "2.4.0"
  }
 },
 "nbformat": 4,
 "nbformat_minor": 5
}
