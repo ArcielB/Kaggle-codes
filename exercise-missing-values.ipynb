{
 "cells": [
  {
   "cell_type": "markdown",
   "id": "abd6e687",
   "metadata": {
    "papermill": {
     "duration": 0.008673,
     "end_time": "2023-05-06T14:22:19.172552",
     "exception": false,
     "start_time": "2023-05-06T14:22:19.163879",
     "status": "completed"
    },
    "tags": []
   },
   "source": [
    "**This notebook is an exercise in the [Intermediate Machine Learning](https://www.kaggle.com/learn/intermediate-machine-learning) course.  You can reference the tutorial at [this link](https://www.kaggle.com/alexisbcook/missing-values).**\n",
    "\n",
    "---\n"
   ]
  },
  {
   "cell_type": "markdown",
   "id": "c5e673c0",
   "metadata": {
    "papermill": {
     "duration": 0.00736,
     "end_time": "2023-05-06T14:22:19.187716",
     "exception": false,
     "start_time": "2023-05-06T14:22:19.180356",
     "status": "completed"
    },
    "tags": []
   },
   "source": [
    "Now it's your turn to test your new knowledge of **missing values** handling. You'll probably find it makes a big difference.\n",
    "\n",
    "# Setup\n",
    "\n",
    "The questions will give you feedback on your work. Run the following cell to set up the feedback system."
   ]
  },
  {
   "cell_type": "code",
   "execution_count": 1,
   "id": "5c140a68",
   "metadata": {
    "execution": {
     "iopub.execute_input": "2023-05-06T14:22:19.205192Z",
     "iopub.status.busy": "2023-05-06T14:22:19.204715Z",
     "iopub.status.idle": "2023-05-06T14:22:19.246032Z",
     "shell.execute_reply": "2023-05-06T14:22:19.245316Z"
    },
    "papermill": {
     "duration": 0.053187,
     "end_time": "2023-05-06T14:22:19.248536",
     "exception": false,
     "start_time": "2023-05-06T14:22:19.195349",
     "status": "completed"
    },
    "tags": []
   },
   "outputs": [
    {
     "name": "stdout",
     "output_type": "stream",
     "text": [
      "Setup Complete\n"
     ]
    }
   ],
   "source": [
    "# Set up code checking\n",
    "import os\n",
    "if not os.path.exists(\"../input/train.csv\"):\n",
    "    os.symlink(\"../input/home-data-for-ml-course/train.csv\", \"../input/train.csv\")  \n",
    "    os.symlink(\"../input/home-data-for-ml-course/test.csv\", \"../input/test.csv\") \n",
    "from learntools.core import binder\n",
    "binder.bind(globals())\n",
    "from learntools.ml_intermediate.ex2 import *\n",
    "print(\"Setup Complete\")"
   ]
  },
  {
   "cell_type": "markdown",
   "id": "33f17c14",
   "metadata": {
    "papermill": {
     "duration": 0.007466,
     "end_time": "2023-05-06T14:22:19.263782",
     "exception": false,
     "start_time": "2023-05-06T14:22:19.256316",
     "status": "completed"
    },
    "tags": []
   },
   "source": [
    "In this exercise, you will work with data from the [Housing Prices Competition for Kaggle Learn Users](https://www.kaggle.com/c/home-data-for-ml-course). \n",
    "\n",
    "![Ames Housing dataset image](https://storage.googleapis.com/kaggle-media/learn/images/lTJVG4e.png)\n",
    "\n",
    "Run the next code cell without changes to load the training and validation sets in `X_train`, `X_valid`, `y_train`, and `y_valid`.  The test set is loaded in `X_test`."
   ]
  },
  {
   "cell_type": "code",
   "execution_count": 2,
   "id": "ba4ef81f",
   "metadata": {
    "execution": {
     "iopub.execute_input": "2023-05-06T14:22:19.281144Z",
     "iopub.status.busy": "2023-05-06T14:22:19.280285Z",
     "iopub.status.idle": "2023-05-06T14:22:20.440850Z",
     "shell.execute_reply": "2023-05-06T14:22:20.439923Z"
    },
    "papermill": {
     "duration": 1.172056,
     "end_time": "2023-05-06T14:22:20.443383",
     "exception": false,
     "start_time": "2023-05-06T14:22:19.271327",
     "status": "completed"
    },
    "tags": []
   },
   "outputs": [
    {
     "name": "stderr",
     "output_type": "stream",
     "text": [
      "/opt/conda/lib/python3.10/site-packages/scipy/__init__.py:146: UserWarning: A NumPy version >=1.16.5 and <1.23.0 is required for this version of SciPy (detected version 1.23.5\n",
      "  warnings.warn(f\"A NumPy version >={np_minversion} and <{np_maxversion}\"\n"
     ]
    }
   ],
   "source": [
    "import pandas as pd\n",
    "from sklearn.model_selection import train_test_split\n",
    "\n",
    "# Read the data\n",
    "X_full = pd.read_csv('../input/train.csv', index_col='Id')\n",
    "X_test_full = pd.read_csv('../input/test.csv', index_col='Id')\n",
    "\n",
    "# Remove rows with missing target, separate target from predictors\n",
    "X_full.dropna(axis=0, subset=['SalePrice'], inplace=True)\n",
    "y = X_full.SalePrice\n",
    "X_full.drop(['SalePrice'], axis=1, inplace=True)\n",
    "\n",
    "# To keep things simple, we'll use only numerical predictors\n",
    "X = X_full.select_dtypes(exclude=['object'])\n",
    "X_test = X_test_full.select_dtypes(exclude=['object'])\n",
    "\n",
    "# Break off validation set from training data\n",
    "X_train, X_valid, y_train, y_valid = train_test_split(X, y, train_size=0.8, test_size=0.2,\n",
    "                                                      random_state=0)"
   ]
  },
  {
   "cell_type": "markdown",
   "id": "53ca3765",
   "metadata": {
    "papermill": {
     "duration": 0.00787,
     "end_time": "2023-05-06T14:22:20.459261",
     "exception": false,
     "start_time": "2023-05-06T14:22:20.451391",
     "status": "completed"
    },
    "tags": []
   },
   "source": [
    "Use the next code cell to print the first five rows of the data."
   ]
  },
  {
   "cell_type": "code",
   "execution_count": 3,
   "id": "f353c8e2",
   "metadata": {
    "execution": {
     "iopub.execute_input": "2023-05-06T14:22:20.476853Z",
     "iopub.status.busy": "2023-05-06T14:22:20.475895Z",
     "iopub.status.idle": "2023-05-06T14:22:20.507673Z",
     "shell.execute_reply": "2023-05-06T14:22:20.506678Z"
    },
    "papermill": {
     "duration": 0.043071,
     "end_time": "2023-05-06T14:22:20.510056",
     "exception": false,
     "start_time": "2023-05-06T14:22:20.466985",
     "status": "completed"
    },
    "tags": []
   },
   "outputs": [
    {
     "data": {
      "text/html": [
       "<div>\n",
       "<style scoped>\n",
       "    .dataframe tbody tr th:only-of-type {\n",
       "        vertical-align: middle;\n",
       "    }\n",
       "\n",
       "    .dataframe tbody tr th {\n",
       "        vertical-align: top;\n",
       "    }\n",
       "\n",
       "    .dataframe thead th {\n",
       "        text-align: right;\n",
       "    }\n",
       "</style>\n",
       "<table border=\"1\" class=\"dataframe\">\n",
       "  <thead>\n",
       "    <tr style=\"text-align: right;\">\n",
       "      <th></th>\n",
       "      <th>MSSubClass</th>\n",
       "      <th>LotFrontage</th>\n",
       "      <th>LotArea</th>\n",
       "      <th>OverallQual</th>\n",
       "      <th>OverallCond</th>\n",
       "      <th>YearBuilt</th>\n",
       "      <th>YearRemodAdd</th>\n",
       "      <th>MasVnrArea</th>\n",
       "      <th>BsmtFinSF1</th>\n",
       "      <th>BsmtFinSF2</th>\n",
       "      <th>...</th>\n",
       "      <th>GarageArea</th>\n",
       "      <th>WoodDeckSF</th>\n",
       "      <th>OpenPorchSF</th>\n",
       "      <th>EnclosedPorch</th>\n",
       "      <th>3SsnPorch</th>\n",
       "      <th>ScreenPorch</th>\n",
       "      <th>PoolArea</th>\n",
       "      <th>MiscVal</th>\n",
       "      <th>MoSold</th>\n",
       "      <th>YrSold</th>\n",
       "    </tr>\n",
       "    <tr>\n",
       "      <th>Id</th>\n",
       "      <th></th>\n",
       "      <th></th>\n",
       "      <th></th>\n",
       "      <th></th>\n",
       "      <th></th>\n",
       "      <th></th>\n",
       "      <th></th>\n",
       "      <th></th>\n",
       "      <th></th>\n",
       "      <th></th>\n",
       "      <th></th>\n",
       "      <th></th>\n",
       "      <th></th>\n",
       "      <th></th>\n",
       "      <th></th>\n",
       "      <th></th>\n",
       "      <th></th>\n",
       "      <th></th>\n",
       "      <th></th>\n",
       "      <th></th>\n",
       "      <th></th>\n",
       "    </tr>\n",
       "  </thead>\n",
       "  <tbody>\n",
       "    <tr>\n",
       "      <th>619</th>\n",
       "      <td>20</td>\n",
       "      <td>90.0</td>\n",
       "      <td>11694</td>\n",
       "      <td>9</td>\n",
       "      <td>5</td>\n",
       "      <td>2007</td>\n",
       "      <td>2007</td>\n",
       "      <td>452.0</td>\n",
       "      <td>48</td>\n",
       "      <td>0</td>\n",
       "      <td>...</td>\n",
       "      <td>774</td>\n",
       "      <td>0</td>\n",
       "      <td>108</td>\n",
       "      <td>0</td>\n",
       "      <td>0</td>\n",
       "      <td>260</td>\n",
       "      <td>0</td>\n",
       "      <td>0</td>\n",
       "      <td>7</td>\n",
       "      <td>2007</td>\n",
       "    </tr>\n",
       "    <tr>\n",
       "      <th>871</th>\n",
       "      <td>20</td>\n",
       "      <td>60.0</td>\n",
       "      <td>6600</td>\n",
       "      <td>5</td>\n",
       "      <td>5</td>\n",
       "      <td>1962</td>\n",
       "      <td>1962</td>\n",
       "      <td>0.0</td>\n",
       "      <td>0</td>\n",
       "      <td>0</td>\n",
       "      <td>...</td>\n",
       "      <td>308</td>\n",
       "      <td>0</td>\n",
       "      <td>0</td>\n",
       "      <td>0</td>\n",
       "      <td>0</td>\n",
       "      <td>0</td>\n",
       "      <td>0</td>\n",
       "      <td>0</td>\n",
       "      <td>8</td>\n",
       "      <td>2009</td>\n",
       "    </tr>\n",
       "    <tr>\n",
       "      <th>93</th>\n",
       "      <td>30</td>\n",
       "      <td>80.0</td>\n",
       "      <td>13360</td>\n",
       "      <td>5</td>\n",
       "      <td>7</td>\n",
       "      <td>1921</td>\n",
       "      <td>2006</td>\n",
       "      <td>0.0</td>\n",
       "      <td>713</td>\n",
       "      <td>0</td>\n",
       "      <td>...</td>\n",
       "      <td>432</td>\n",
       "      <td>0</td>\n",
       "      <td>0</td>\n",
       "      <td>44</td>\n",
       "      <td>0</td>\n",
       "      <td>0</td>\n",
       "      <td>0</td>\n",
       "      <td>0</td>\n",
       "      <td>8</td>\n",
       "      <td>2009</td>\n",
       "    </tr>\n",
       "    <tr>\n",
       "      <th>818</th>\n",
       "      <td>20</td>\n",
       "      <td>NaN</td>\n",
       "      <td>13265</td>\n",
       "      <td>8</td>\n",
       "      <td>5</td>\n",
       "      <td>2002</td>\n",
       "      <td>2002</td>\n",
       "      <td>148.0</td>\n",
       "      <td>1218</td>\n",
       "      <td>0</td>\n",
       "      <td>...</td>\n",
       "      <td>857</td>\n",
       "      <td>150</td>\n",
       "      <td>59</td>\n",
       "      <td>0</td>\n",
       "      <td>0</td>\n",
       "      <td>0</td>\n",
       "      <td>0</td>\n",
       "      <td>0</td>\n",
       "      <td>7</td>\n",
       "      <td>2008</td>\n",
       "    </tr>\n",
       "    <tr>\n",
       "      <th>303</th>\n",
       "      <td>20</td>\n",
       "      <td>118.0</td>\n",
       "      <td>13704</td>\n",
       "      <td>7</td>\n",
       "      <td>5</td>\n",
       "      <td>2001</td>\n",
       "      <td>2002</td>\n",
       "      <td>150.0</td>\n",
       "      <td>0</td>\n",
       "      <td>0</td>\n",
       "      <td>...</td>\n",
       "      <td>843</td>\n",
       "      <td>468</td>\n",
       "      <td>81</td>\n",
       "      <td>0</td>\n",
       "      <td>0</td>\n",
       "      <td>0</td>\n",
       "      <td>0</td>\n",
       "      <td>0</td>\n",
       "      <td>1</td>\n",
       "      <td>2006</td>\n",
       "    </tr>\n",
       "  </tbody>\n",
       "</table>\n",
       "<p>5 rows × 36 columns</p>\n",
       "</div>"
      ],
      "text/plain": [
       "     MSSubClass  LotFrontage  LotArea  OverallQual  OverallCond  YearBuilt  \\\n",
       "Id                                                                           \n",
       "619          20         90.0    11694            9            5       2007   \n",
       "871          20         60.0     6600            5            5       1962   \n",
       "93           30         80.0    13360            5            7       1921   \n",
       "818          20          NaN    13265            8            5       2002   \n",
       "303          20        118.0    13704            7            5       2001   \n",
       "\n",
       "     YearRemodAdd  MasVnrArea  BsmtFinSF1  BsmtFinSF2  ...  GarageArea  \\\n",
       "Id                                                     ...               \n",
       "619          2007       452.0          48           0  ...         774   \n",
       "871          1962         0.0           0           0  ...         308   \n",
       "93           2006         0.0         713           0  ...         432   \n",
       "818          2002       148.0        1218           0  ...         857   \n",
       "303          2002       150.0           0           0  ...         843   \n",
       "\n",
       "     WoodDeckSF  OpenPorchSF  EnclosedPorch  3SsnPorch  ScreenPorch  PoolArea  \\\n",
       "Id                                                                              \n",
       "619           0          108              0          0          260         0   \n",
       "871           0            0              0          0            0         0   \n",
       "93            0            0             44          0            0         0   \n",
       "818         150           59              0          0            0         0   \n",
       "303         468           81              0          0            0         0   \n",
       "\n",
       "     MiscVal  MoSold  YrSold  \n",
       "Id                            \n",
       "619        0       7    2007  \n",
       "871        0       8    2009  \n",
       "93         0       8    2009  \n",
       "818        0       7    2008  \n",
       "303        0       1    2006  \n",
       "\n",
       "[5 rows x 36 columns]"
      ]
     },
     "execution_count": 3,
     "metadata": {},
     "output_type": "execute_result"
    }
   ],
   "source": [
    "X_train.head()"
   ]
  },
  {
   "cell_type": "markdown",
   "id": "9b43ba40",
   "metadata": {
    "papermill": {
     "duration": 0.007898,
     "end_time": "2023-05-06T14:22:20.526309",
     "exception": false,
     "start_time": "2023-05-06T14:22:20.518411",
     "status": "completed"
    },
    "tags": []
   },
   "source": [
    "You can already see a few missing values in the first several rows.  In the next step, you'll obtain a more comprehensive understanding of the missing values in the dataset.\n",
    "\n",
    "# Step 1: Preliminary investigation\n",
    "\n",
    "Run the code cell below without changes."
   ]
  },
  {
   "cell_type": "code",
   "execution_count": 4,
   "id": "614ddcc7",
   "metadata": {
    "execution": {
     "iopub.execute_input": "2023-05-06T14:22:20.545066Z",
     "iopub.status.busy": "2023-05-06T14:22:20.544050Z",
     "iopub.status.idle": "2023-05-06T14:22:20.552507Z",
     "shell.execute_reply": "2023-05-06T14:22:20.551150Z"
    },
    "papermill": {
     "duration": 0.019718,
     "end_time": "2023-05-06T14:22:20.554465",
     "exception": false,
     "start_time": "2023-05-06T14:22:20.534747",
     "status": "completed"
    },
    "tags": []
   },
   "outputs": [
    {
     "name": "stdout",
     "output_type": "stream",
     "text": [
      "(1168, 36)\n",
      "LotFrontage    212\n",
      "MasVnrArea       6\n",
      "GarageYrBlt     58\n",
      "dtype: int64\n"
     ]
    }
   ],
   "source": [
    "# Shape of training data (num_rows, num_columns)\n",
    "print(X_train.shape)\n",
    "\n",
    "# Number of missing values in each column of training data\n",
    "missing_val_count_by_column = (X_train.isnull().sum())\n",
    "print(missing_val_count_by_column[missing_val_count_by_column > 0])"
   ]
  },
  {
   "cell_type": "markdown",
   "id": "f4b404d0",
   "metadata": {
    "papermill": {
     "duration": 0.008023,
     "end_time": "2023-05-06T14:22:20.570682",
     "exception": false,
     "start_time": "2023-05-06T14:22:20.562659",
     "status": "completed"
    },
    "tags": []
   },
   "source": [
    "### Part A\n",
    "\n",
    "Use the above output to answer the questions below."
   ]
  },
  {
   "cell_type": "code",
   "execution_count": 5,
   "id": "a4840062",
   "metadata": {
    "execution": {
     "iopub.execute_input": "2023-05-06T14:22:20.589833Z",
     "iopub.status.busy": "2023-05-06T14:22:20.589197Z",
     "iopub.status.idle": "2023-05-06T14:22:20.599026Z",
     "shell.execute_reply": "2023-05-06T14:22:20.598069Z"
    },
    "papermill": {
     "duration": 0.021995,
     "end_time": "2023-05-06T14:22:20.601134",
     "exception": false,
     "start_time": "2023-05-06T14:22:20.579139",
     "status": "completed"
    },
    "tags": []
   },
   "outputs": [
    {
     "data": {
      "application/javascript": [
       "parent.postMessage({\"jupyterEvent\": \"custom.exercise_interaction\", \"data\": {\"outcomeType\": 1, \"valueTowardsCompletion\": 1.0, \"interactionType\": 1, \"questionType\": 1, \"questionId\": \"1.1_InvestigateEquality\", \"learnToolsVersion\": \"0.3.4\", \"failureMessage\": \"\", \"exceptionClass\": \"\", \"trace\": \"\"}}, \"*\")"
      ],
      "text/plain": [
       "<IPython.core.display.Javascript object>"
      ]
     },
     "metadata": {},
     "output_type": "display_data"
    },
    {
     "data": {
      "text/markdown": [
       "<span style=\"color:#33cc33\">Correct</span>"
      ],
      "text/plain": [
       "Correct"
      ]
     },
     "metadata": {},
     "output_type": "display_data"
    }
   ],
   "source": [
    "# Fill in the line below: How many rows are in the training data?\n",
    "num_rows = X_train.shape[0]\n",
    "\n",
    "# Fill in the line below: How many columns in the training data\n",
    "# have missing values?\n",
    "num_cols_with_missing = sum(1 for i in missing_val_count_by_column if i > 0)\n",
    "\n",
    "# Fill in the line below: How many missing entries are contained in \n",
    "# all of the training data?\n",
    "tot_missing = sum(i for i in missing_val_count_by_column)\n",
    "\n",
    "# Check your answers\n",
    "step_1.a.check()"
   ]
  },
  {
   "cell_type": "code",
   "execution_count": 6,
   "id": "9dd17e88",
   "metadata": {
    "execution": {
     "iopub.execute_input": "2023-05-06T14:22:20.621097Z",
     "iopub.status.busy": "2023-05-06T14:22:20.620478Z",
     "iopub.status.idle": "2023-05-06T14:22:20.624672Z",
     "shell.execute_reply": "2023-05-06T14:22:20.623914Z"
    },
    "papermill": {
     "duration": 0.016506,
     "end_time": "2023-05-06T14:22:20.626587",
     "exception": false,
     "start_time": "2023-05-06T14:22:20.610081",
     "status": "completed"
    },
    "tags": []
   },
   "outputs": [],
   "source": [
    "# Lines below will give you a hint or solution code\n",
    "#step_1.a.hint()\n",
    "#step_1.a.solution()"
   ]
  },
  {
   "cell_type": "markdown",
   "id": "5374a245",
   "metadata": {
    "papermill": {
     "duration": 0.008397,
     "end_time": "2023-05-06T14:22:20.643733",
     "exception": false,
     "start_time": "2023-05-06T14:22:20.635336",
     "status": "completed"
    },
    "tags": []
   },
   "source": [
    "### Part B\n",
    "Considering your answers above, what do you think is likely the best approach to dealing with the missing values?"
   ]
  },
  {
   "cell_type": "code",
   "execution_count": 7,
   "id": "33251423",
   "metadata": {
    "execution": {
     "iopub.execute_input": "2023-05-06T14:22:20.663090Z",
     "iopub.status.busy": "2023-05-06T14:22:20.662426Z",
     "iopub.status.idle": "2023-05-06T14:22:20.670630Z",
     "shell.execute_reply": "2023-05-06T14:22:20.669856Z"
    },
    "papermill": {
     "duration": 0.020247,
     "end_time": "2023-05-06T14:22:20.672473",
     "exception": false,
     "start_time": "2023-05-06T14:22:20.652226",
     "status": "completed"
    },
    "tags": []
   },
   "outputs": [
    {
     "data": {
      "application/javascript": [
       "parent.postMessage({\"jupyterEvent\": \"custom.exercise_interaction\", \"data\": {\"outcomeType\": 1, \"valueTowardsCompletion\": 1.0, \"interactionType\": 1, \"questionType\": 4, \"questionId\": \"1.2_InvestigateThought\", \"learnToolsVersion\": \"0.3.4\", \"failureMessage\": \"\", \"exceptionClass\": \"\", \"trace\": \"\"}}, \"*\")"
      ],
      "text/plain": [
       "<IPython.core.display.Javascript object>"
      ]
     },
     "metadata": {},
     "output_type": "display_data"
    },
    {
     "data": {
      "text/markdown": [
       "<span style=\"color:#33cc33\">Correct:</span> \n",
       "\n",
       "Since there are relatively few missing entries in the data (the column with the greatest percentage of missing values is missing less than 20% of its entries), we can expect that dropping columns is unlikely to yield good results.  This is because we'd be throwing away a lot of valuable data, and so imputation will likely perform better."
      ],
      "text/plain": [
       "Correct: \n",
       "\n",
       "Since there are relatively few missing entries in the data (the column with the greatest percentage of missing values is missing less than 20% of its entries), we can expect that dropping columns is unlikely to yield good results.  This is because we'd be throwing away a lot of valuable data, and so imputation will likely perform better."
      ]
     },
     "metadata": {},
     "output_type": "display_data"
    }
   ],
   "source": [
    "# Check your answer (Run this code cell to receive credit!)\n",
    "step_1.b.check()"
   ]
  },
  {
   "cell_type": "code",
   "execution_count": 8,
   "id": "4974ecf5",
   "metadata": {
    "execution": {
     "iopub.execute_input": "2023-05-06T14:22:20.693184Z",
     "iopub.status.busy": "2023-05-06T14:22:20.692526Z",
     "iopub.status.idle": "2023-05-06T14:22:20.696881Z",
     "shell.execute_reply": "2023-05-06T14:22:20.696111Z"
    },
    "papermill": {
     "duration": 0.016641,
     "end_time": "2023-05-06T14:22:20.698841",
     "exception": false,
     "start_time": "2023-05-06T14:22:20.682200",
     "status": "completed"
    },
    "tags": []
   },
   "outputs": [],
   "source": [
    "#step_1.b.hint()"
   ]
  },
  {
   "cell_type": "markdown",
   "id": "22da793c",
   "metadata": {
    "papermill": {
     "duration": 0.00851,
     "end_time": "2023-05-06T14:22:20.716528",
     "exception": false,
     "start_time": "2023-05-06T14:22:20.708018",
     "status": "completed"
    },
    "tags": []
   },
   "source": [
    "To compare different approaches to dealing with missing values, you'll use the same `score_dataset()` function from the tutorial.  This function reports the [mean absolute error](https://en.wikipedia.org/wiki/Mean_absolute_error) (MAE) from a random forest model."
   ]
  },
  {
   "cell_type": "code",
   "execution_count": 9,
   "id": "906854b8",
   "metadata": {
    "execution": {
     "iopub.execute_input": "2023-05-06T14:22:20.736228Z",
     "iopub.status.busy": "2023-05-06T14:22:20.735577Z",
     "iopub.status.idle": "2023-05-06T14:22:21.058644Z",
     "shell.execute_reply": "2023-05-06T14:22:21.057666Z"
    },
    "papermill": {
     "duration": 0.33559,
     "end_time": "2023-05-06T14:22:21.061004",
     "exception": false,
     "start_time": "2023-05-06T14:22:20.725414",
     "status": "completed"
    },
    "tags": []
   },
   "outputs": [],
   "source": [
    "from sklearn.ensemble import RandomForestRegressor\n",
    "from sklearn.metrics import mean_absolute_error\n",
    "\n",
    "# Function for comparing different approaches\n",
    "def score_dataset(X_train, X_valid, y_train, y_valid):\n",
    "    model = RandomForestRegressor(n_estimators=100, random_state=0)\n",
    "    model.fit(X_train, y_train)\n",
    "    preds = model.predict(X_valid)\n",
    "    return mean_absolute_error(y_valid, preds)"
   ]
  },
  {
   "cell_type": "markdown",
   "id": "ffeca852",
   "metadata": {
    "papermill": {
     "duration": 0.008742,
     "end_time": "2023-05-06T14:22:21.079280",
     "exception": false,
     "start_time": "2023-05-06T14:22:21.070538",
     "status": "completed"
    },
    "tags": []
   },
   "source": [
    "# Step 2: Drop columns with missing values\n",
    "\n",
    "In this step, you'll preprocess the data in `X_train` and `X_valid` to remove columns with missing values.  Set the preprocessed DataFrames to `reduced_X_train` and `reduced_X_valid`, respectively.  "
   ]
  },
  {
   "cell_type": "code",
   "execution_count": 10,
   "id": "e430dd4a",
   "metadata": {
    "execution": {
     "iopub.execute_input": "2023-05-06T14:22:21.099712Z",
     "iopub.status.busy": "2023-05-06T14:22:21.099334Z",
     "iopub.status.idle": "2023-05-06T14:22:21.126823Z",
     "shell.execute_reply": "2023-05-06T14:22:21.125613Z"
    },
    "papermill": {
     "duration": 0.040153,
     "end_time": "2023-05-06T14:22:21.128967",
     "exception": false,
     "start_time": "2023-05-06T14:22:21.088814",
     "status": "completed"
    },
    "tags": []
   },
   "outputs": [
    {
     "data": {
      "application/javascript": [
       "parent.postMessage({\"jupyterEvent\": \"custom.exercise_interaction\", \"data\": {\"outcomeType\": 1, \"valueTowardsCompletion\": 1.0, \"interactionType\": 1, \"questionType\": 2, \"questionId\": \"2_DropMissing\", \"learnToolsVersion\": \"0.3.4\", \"failureMessage\": \"\", \"exceptionClass\": \"\", \"trace\": \"\"}}, \"*\")"
      ],
      "text/plain": [
       "<IPython.core.display.Javascript object>"
      ]
     },
     "metadata": {},
     "output_type": "display_data"
    },
    {
     "data": {
      "text/markdown": [
       "<span style=\"color:#33cc33\">Correct</span>"
      ],
      "text/plain": [
       "Correct"
      ]
     },
     "metadata": {},
     "output_type": "display_data"
    }
   ],
   "source": [
    "# Fill in the line below: get names of columns with missing values\n",
    "cols_with_missing = [col for col in X_train.columns if X_train[col].isnull().any()] # Your code here\n",
    "\n",
    "# Fill in the lines below: drop columns in training and validation data\n",
    "reduced_X_train = X_train.drop(cols_with_missing, axis=1)\n",
    "reduced_X_valid = X_valid.drop(cols_with_missing, axis=1)\n",
    "\n",
    "# Check your answers\n",
    "step_2.check()"
   ]
  },
  {
   "cell_type": "code",
   "execution_count": 11,
   "id": "a05a43dc",
   "metadata": {
    "execution": {
     "iopub.execute_input": "2023-05-06T14:22:21.149273Z",
     "iopub.status.busy": "2023-05-06T14:22:21.148897Z",
     "iopub.status.idle": "2023-05-06T14:22:21.157429Z",
     "shell.execute_reply": "2023-05-06T14:22:21.156339Z"
    },
    "papermill": {
     "duration": 0.021208,
     "end_time": "2023-05-06T14:22:21.159477",
     "exception": false,
     "start_time": "2023-05-06T14:22:21.138269",
     "status": "completed"
    },
    "tags": []
   },
   "outputs": [
    {
     "data": {
      "application/javascript": [
       "parent.postMessage({\"jupyterEvent\": \"custom.exercise_interaction\", \"data\": {\"interactionType\": 2, \"questionType\": 2, \"questionId\": \"2_DropMissing\", \"learnToolsVersion\": \"0.3.4\", \"valueTowardsCompletion\": 0.0, \"failureMessage\": \"\", \"exceptionClass\": \"\", \"trace\": \"\", \"outcomeType\": 4}}, \"*\")"
      ],
      "text/plain": [
       "<IPython.core.display.Javascript object>"
      ]
     },
     "metadata": {},
     "output_type": "display_data"
    },
    {
     "data": {
      "text/markdown": [
       "<span style=\"color:#3366cc\">Hint:</span> Begin by finding the list of columns in the data with missing values.  Then, drop these columns in both the training and validation data with the `drop()` method."
      ],
      "text/plain": [
       "Hint: Begin by finding the list of columns in the data with missing values.  Then, drop these columns in both the training and validation data with the `drop()` method."
      ]
     },
     "metadata": {},
     "output_type": "display_data"
    }
   ],
   "source": [
    "# Lines below will give you a hint or solution code\n",
    "step_2.hint()\n",
    "#step_2.solution()"
   ]
  },
  {
   "cell_type": "markdown",
   "id": "ff9effeb",
   "metadata": {
    "papermill": {
     "duration": 0.00903,
     "end_time": "2023-05-06T14:22:21.178081",
     "exception": false,
     "start_time": "2023-05-06T14:22:21.169051",
     "status": "completed"
    },
    "tags": []
   },
   "source": [
    "Run the next code cell without changes to obtain the MAE for this approach."
   ]
  },
  {
   "cell_type": "code",
   "execution_count": 12,
   "id": "ca41053f",
   "metadata": {
    "execution": {
     "iopub.execute_input": "2023-05-06T14:22:21.198473Z",
     "iopub.status.busy": "2023-05-06T14:22:21.198104Z",
     "iopub.status.idle": "2023-05-06T14:22:22.478292Z",
     "shell.execute_reply": "2023-05-06T14:22:22.477107Z"
    },
    "papermill": {
     "duration": 1.293585,
     "end_time": "2023-05-06T14:22:22.481002",
     "exception": false,
     "start_time": "2023-05-06T14:22:21.187417",
     "status": "completed"
    },
    "tags": []
   },
   "outputs": [
    {
     "name": "stdout",
     "output_type": "stream",
     "text": [
      "MAE (Drop columns with missing values):\n",
      "17837.82570776256\n"
     ]
    }
   ],
   "source": [
    "print(\"MAE (Drop columns with missing values):\")\n",
    "print(score_dataset(reduced_X_train, reduced_X_valid, y_train, y_valid))"
   ]
  },
  {
   "cell_type": "markdown",
   "id": "1039fa0d",
   "metadata": {
    "papermill": {
     "duration": 0.009266,
     "end_time": "2023-05-06T14:22:22.499841",
     "exception": false,
     "start_time": "2023-05-06T14:22:22.490575",
     "status": "completed"
    },
    "tags": []
   },
   "source": [
    "# Step 3: Imputation\n",
    "\n",
    "### Part A\n",
    "\n",
    "Use the next code cell to impute missing values with the mean value along each column.  Set the preprocessed DataFrames to `imputed_X_train` and `imputed_X_valid`.  Make sure that the column names match those in `X_train` and `X_valid`."
   ]
  },
  {
   "cell_type": "code",
   "execution_count": 13,
   "id": "5466d207",
   "metadata": {
    "execution": {
     "iopub.execute_input": "2023-05-06T14:22:22.520607Z",
     "iopub.status.busy": "2023-05-06T14:22:22.520247Z",
     "iopub.status.idle": "2023-05-06T14:22:22.558822Z",
     "shell.execute_reply": "2023-05-06T14:22:22.557838Z"
    },
    "papermill": {
     "duration": 0.05109,
     "end_time": "2023-05-06T14:22:22.560771",
     "exception": false,
     "start_time": "2023-05-06T14:22:22.509681",
     "status": "completed"
    },
    "tags": []
   },
   "outputs": [
    {
     "data": {
      "application/javascript": [
       "parent.postMessage({\"jupyterEvent\": \"custom.exercise_interaction\", \"data\": {\"outcomeType\": 1, \"valueTowardsCompletion\": 1.0, \"interactionType\": 1, \"questionType\": 2, \"questionId\": \"3.1_ImputeCode\", \"learnToolsVersion\": \"0.3.4\", \"failureMessage\": \"\", \"exceptionClass\": \"\", \"trace\": \"\"}}, \"*\")"
      ],
      "text/plain": [
       "<IPython.core.display.Javascript object>"
      ]
     },
     "metadata": {},
     "output_type": "display_data"
    },
    {
     "data": {
      "text/markdown": [
       "<span style=\"color:#33cc33\">Correct</span>"
      ],
      "text/plain": [
       "Correct"
      ]
     },
     "metadata": {},
     "output_type": "display_data"
    }
   ],
   "source": [
    "from sklearn.impute import SimpleImputer\n",
    "\n",
    "# Fill in the lines below: imputation\n",
    "inputer = SimpleImputer() # Your code here\n",
    "imputed_X_train = pd.DataFrame(inputer.fit_transform(X_train))\n",
    "imputed_X_valid = pd.DataFrame(inputer.transform(X_valid))\n",
    "\n",
    "# Fill in the lines below: imputation removed column names; put them back\n",
    "imputed_X_train.columns = X_train.columns\n",
    "imputed_X_valid.columns = X_valid.columns\n",
    "\n",
    "# Check your answers\n",
    "step_3.a.check()"
   ]
  },
  {
   "cell_type": "code",
   "execution_count": 14,
   "id": "47296d95",
   "metadata": {
    "execution": {
     "iopub.execute_input": "2023-05-06T14:22:22.582123Z",
     "iopub.status.busy": "2023-05-06T14:22:22.581690Z",
     "iopub.status.idle": "2023-05-06T14:22:22.586392Z",
     "shell.execute_reply": "2023-05-06T14:22:22.585373Z"
    },
    "papermill": {
     "duration": 0.017954,
     "end_time": "2023-05-06T14:22:22.588501",
     "exception": false,
     "start_time": "2023-05-06T14:22:22.570547",
     "status": "completed"
    },
    "tags": []
   },
   "outputs": [],
   "source": [
    "# Lines below will give you a hint or solution code\n",
    "#step_3.a.hint()\n",
    "#step_3.a.solution()"
   ]
  },
  {
   "cell_type": "markdown",
   "id": "c9ba6042",
   "metadata": {
    "papermill": {
     "duration": 0.009346,
     "end_time": "2023-05-06T14:22:22.607649",
     "exception": false,
     "start_time": "2023-05-06T14:22:22.598303",
     "status": "completed"
    },
    "tags": []
   },
   "source": [
    "Run the next code cell without changes to obtain the MAE for this approach."
   ]
  },
  {
   "cell_type": "code",
   "execution_count": 15,
   "id": "dd18cb67",
   "metadata": {
    "execution": {
     "iopub.execute_input": "2023-05-06T14:22:22.628364Z",
     "iopub.status.busy": "2023-05-06T14:22:22.627980Z",
     "iopub.status.idle": "2023-05-06T14:22:24.014306Z",
     "shell.execute_reply": "2023-05-06T14:22:24.013071Z"
    },
    "papermill": {
     "duration": 1.399352,
     "end_time": "2023-05-06T14:22:24.016568",
     "exception": false,
     "start_time": "2023-05-06T14:22:22.617216",
     "status": "completed"
    },
    "tags": []
   },
   "outputs": [
    {
     "name": "stdout",
     "output_type": "stream",
     "text": [
      "MAE (Imputation):\n",
      "18062.894611872147\n"
     ]
    }
   ],
   "source": [
    "print(\"MAE (Imputation):\")\n",
    "print(score_dataset(imputed_X_train, imputed_X_valid, y_train, y_valid))"
   ]
  },
  {
   "cell_type": "markdown",
   "id": "889abb24",
   "metadata": {
    "papermill": {
     "duration": 0.00971,
     "end_time": "2023-05-06T14:22:24.036980",
     "exception": false,
     "start_time": "2023-05-06T14:22:24.027270",
     "status": "completed"
    },
    "tags": []
   },
   "source": [
    "### Part B\n",
    "\n",
    "Compare the MAE from each approach.  Does anything surprise you about the results?  Why do you think one approach performed better than the other?"
   ]
  },
  {
   "cell_type": "code",
   "execution_count": 16,
   "id": "de8ed344",
   "metadata": {
    "execution": {
     "iopub.execute_input": "2023-05-06T14:22:24.058105Z",
     "iopub.status.busy": "2023-05-06T14:22:24.057748Z",
     "iopub.status.idle": "2023-05-06T14:22:24.065828Z",
     "shell.execute_reply": "2023-05-06T14:22:24.064835Z"
    },
    "papermill": {
     "duration": 0.021083,
     "end_time": "2023-05-06T14:22:24.067932",
     "exception": false,
     "start_time": "2023-05-06T14:22:24.046849",
     "status": "completed"
    },
    "tags": []
   },
   "outputs": [
    {
     "data": {
      "application/javascript": [
       "parent.postMessage({\"jupyterEvent\": \"custom.exercise_interaction\", \"data\": {\"outcomeType\": 1, \"valueTowardsCompletion\": 1.0, \"interactionType\": 1, \"questionType\": 4, \"questionId\": \"3.2_ImputeThought\", \"learnToolsVersion\": \"0.3.4\", \"failureMessage\": \"\", \"exceptionClass\": \"\", \"trace\": \"\"}}, \"*\")"
      ],
      "text/plain": [
       "<IPython.core.display.Javascript object>"
      ]
     },
     "metadata": {},
     "output_type": "display_data"
    },
    {
     "data": {
      "text/markdown": [
       "<span style=\"color:#33cc33\">Correct:</span> \n",
       "\n",
       "Given that thre are so few missing values in the dataset, we'd expect imputation to perform better than dropping columns entirely.  However, we see that dropping columns performs slightly better!  While this can probably partially be attributed to noise in the dataset, another potential explanation is that the imputation method is not a great match to this dataset.  That is, maybe instead of filling in the mean value, it makes more sense to set every missing value to a value of 0, to fill in the most frequently encountered value, or to use some other method.  For instance, consider the `GarageYrBlt` column (which indicates the year that the garage was built).  It's likely that in some cases, a missing value could indicate a house that does not have a garage.  Does it make more sense to fill in the median value along each column in this case?  Or could we get better results by filling in the minimum value along each column?  It's not quite clear what's best in this case, but perhaps we can rule out some options immediately - for instance, setting missing values in this column to 0 is likely to yield horrible results!"
      ],
      "text/plain": [
       "Correct: \n",
       "\n",
       "Given that thre are so few missing values in the dataset, we'd expect imputation to perform better than dropping columns entirely.  However, we see that dropping columns performs slightly better!  While this can probably partially be attributed to noise in the dataset, another potential explanation is that the imputation method is not a great match to this dataset.  That is, maybe instead of filling in the mean value, it makes more sense to set every missing value to a value of 0, to fill in the most frequently encountered value, or to use some other method.  For instance, consider the `GarageYrBlt` column (which indicates the year that the garage was built).  It's likely that in some cases, a missing value could indicate a house that does not have a garage.  Does it make more sense to fill in the median value along each column in this case?  Or could we get better results by filling in the minimum value along each column?  It's not quite clear what's best in this case, but perhaps we can rule out some options immediately - for instance, setting missing values in this column to 0 is likely to yield horrible results!"
      ]
     },
     "metadata": {},
     "output_type": "display_data"
    }
   ],
   "source": [
    "# Check your answer (Run this code cell to receive credit!)\n",
    "step_3.b.check()"
   ]
  },
  {
   "cell_type": "code",
   "execution_count": 17,
   "id": "d58da5b7",
   "metadata": {
    "execution": {
     "iopub.execute_input": "2023-05-06T14:22:24.090425Z",
     "iopub.status.busy": "2023-05-06T14:22:24.090070Z",
     "iopub.status.idle": "2023-05-06T14:22:24.094409Z",
     "shell.execute_reply": "2023-05-06T14:22:24.093354Z"
    },
    "papermill": {
     "duration": 0.018054,
     "end_time": "2023-05-06T14:22:24.096471",
     "exception": false,
     "start_time": "2023-05-06T14:22:24.078417",
     "status": "completed"
    },
    "tags": []
   },
   "outputs": [],
   "source": [
    "#step_3.b.hint()"
   ]
  },
  {
   "cell_type": "markdown",
   "id": "d686e572",
   "metadata": {
    "papermill": {
     "duration": 0.009704,
     "end_time": "2023-05-06T14:22:24.116552",
     "exception": false,
     "start_time": "2023-05-06T14:22:24.106848",
     "status": "completed"
    },
    "tags": []
   },
   "source": [
    "# Step 4: Generate test predictions\n",
    "\n",
    "In this final step, you'll use any approach of your choosing to deal with missing values.  Once you've preprocessed the training and validation features, you'll train and evaluate a random forest model.  Then, you'll preprocess the test data before generating predictions that can be submitted to the competition!\n",
    "\n",
    "### Part A\n",
    "\n",
    "Use the next code cell to preprocess the training and validation data.  Set the preprocessed DataFrames to `final_X_train` and `final_X_valid`.  **You can use any approach of your choosing here!**  in order for this step to be marked as correct, you need only ensure:\n",
    "- the preprocessed DataFrames have the same number of columns,\n",
    "- the preprocessed DataFrames have no missing values, \n",
    "- `final_X_train` and `y_train` have the same number of rows, and\n",
    "- `final_X_valid` and `y_valid` have the same number of rows."
   ]
  },
  {
   "cell_type": "code",
   "execution_count": 18,
   "id": "a1364809",
   "metadata": {
    "execution": {
     "iopub.execute_input": "2023-05-06T14:22:24.139040Z",
     "iopub.status.busy": "2023-05-06T14:22:24.137957Z",
     "iopub.status.idle": "2023-05-06T14:22:24.165363Z",
     "shell.execute_reply": "2023-05-06T14:22:24.164184Z"
    },
    "papermill": {
     "duration": 0.040643,
     "end_time": "2023-05-06T14:22:24.167492",
     "exception": false,
     "start_time": "2023-05-06T14:22:24.126849",
     "status": "completed"
    },
    "tags": []
   },
   "outputs": [
    {
     "data": {
      "application/javascript": [
       "parent.postMessage({\"jupyterEvent\": \"custom.exercise_interaction\", \"data\": {\"outcomeType\": 1, \"valueTowardsCompletion\": 1.0, \"interactionType\": 1, \"questionType\": 2, \"questionId\": \"4.1_PredsCodeA\", \"learnToolsVersion\": \"0.3.4\", \"failureMessage\": \"\", \"exceptionClass\": \"\", \"trace\": \"\"}}, \"*\")"
      ],
      "text/plain": [
       "<IPython.core.display.Javascript object>"
      ]
     },
     "metadata": {},
     "output_type": "display_data"
    },
    {
     "data": {
      "text/markdown": [
       "<span style=\"color:#33cc33\">Correct</span>"
      ],
      "text/plain": [
       "Correct"
      ]
     },
     "metadata": {},
     "output_type": "display_data"
    }
   ],
   "source": [
    "# Preprocessed training and validation features\n",
    "X_train_dropped = X_train.drop(['MasVnrArea', 'LotFrontage'], axis=1)\n",
    "X_valid_dropped = X_valid.drop(['MasVnrArea', 'LotFrontage'], axis=1)\n",
    "imputer = SimpleImputer()\n",
    "final_X_train = pd.DataFrame(imputer.fit_transform(X_train_dropped))\n",
    "final_X_valid = pd.DataFrame(imputer.transform(X_valid_dropped))\n",
    "\n",
    "# Check your answers\n",
    "step_4.a.check()"
   ]
  },
  {
   "cell_type": "code",
   "execution_count": 19,
   "id": "e28eedf7",
   "metadata": {
    "execution": {
     "iopub.execute_input": "2023-05-06T14:22:24.190786Z",
     "iopub.status.busy": "2023-05-06T14:22:24.189578Z",
     "iopub.status.idle": "2023-05-06T14:22:24.194077Z",
     "shell.execute_reply": "2023-05-06T14:22:24.193198Z"
    },
    "papermill": {
     "duration": 0.01795,
     "end_time": "2023-05-06T14:22:24.195979",
     "exception": false,
     "start_time": "2023-05-06T14:22:24.178029",
     "status": "completed"
    },
    "tags": []
   },
   "outputs": [],
   "source": [
    "# Lines below will give you a hint or solution code\n",
    "#step_4.a.hint()\n",
    "#step_4.a.solution()"
   ]
  },
  {
   "cell_type": "markdown",
   "id": "b8c1a302",
   "metadata": {
    "papermill": {
     "duration": 0.010166,
     "end_time": "2023-05-06T14:22:24.216467",
     "exception": false,
     "start_time": "2023-05-06T14:22:24.206301",
     "status": "completed"
    },
    "tags": []
   },
   "source": [
    "Run the next code cell to train and evaluate a random forest model.  (*Note that we don't use the `score_dataset()` function above, because we will soon use the trained model to generate test predictions!*)"
   ]
  },
  {
   "cell_type": "code",
   "execution_count": 20,
   "id": "1820777a",
   "metadata": {
    "execution": {
     "iopub.execute_input": "2023-05-06T14:22:24.239493Z",
     "iopub.status.busy": "2023-05-06T14:22:24.238547Z",
     "iopub.status.idle": "2023-05-06T14:22:25.539384Z",
     "shell.execute_reply": "2023-05-06T14:22:25.537965Z"
    },
    "papermill": {
     "duration": 1.314823,
     "end_time": "2023-05-06T14:22:25.541786",
     "exception": false,
     "start_time": "2023-05-06T14:22:24.226963",
     "status": "completed"
    },
    "tags": []
   },
   "outputs": [
    {
     "name": "stdout",
     "output_type": "stream",
     "text": [
      "MAE (Your approach):\n",
      "17657.55826484018\n"
     ]
    }
   ],
   "source": [
    "# Define and fit model\n",
    "model = RandomForestRegressor(n_estimators=100, random_state=0)\n",
    "model.fit(final_X_train, y_train)\n",
    "\n",
    "# Get validation predictions and MAE\n",
    "preds_valid = model.predict(final_X_valid)\n",
    "print(\"MAE (Your approach):\")\n",
    "print(mean_absolute_error(y_valid, preds_valid))"
   ]
  },
  {
   "cell_type": "markdown",
   "id": "51e21a79",
   "metadata": {
    "papermill": {
     "duration": 0.010513,
     "end_time": "2023-05-06T14:22:25.562909",
     "exception": false,
     "start_time": "2023-05-06T14:22:25.552396",
     "status": "completed"
    },
    "tags": []
   },
   "source": [
    "### Part B\n",
    "\n",
    "Use the next code cell to preprocess your test data.  Make sure that you use a method that agrees with how you preprocessed the training and validation data, and set the preprocessed test features to `final_X_test`.\n",
    "\n",
    "Then, use the preprocessed test features and the trained model to generate test predictions in `preds_test`.\n",
    "\n",
    "In order for this step to be marked correct, you need only ensure:\n",
    "- the preprocessed test DataFrame has no missing values, and\n",
    "- `final_X_test` has the same number of rows as `X_test`."
   ]
  },
  {
   "cell_type": "code",
   "execution_count": 21,
   "id": "9db16357",
   "metadata": {
    "execution": {
     "iopub.execute_input": "2023-05-06T14:22:25.586031Z",
     "iopub.status.busy": "2023-05-06T14:22:25.585588Z",
     "iopub.status.idle": "2023-05-06T14:22:25.641910Z",
     "shell.execute_reply": "2023-05-06T14:22:25.640843Z"
    },
    "papermill": {
     "duration": 0.070373,
     "end_time": "2023-05-06T14:22:25.644076",
     "exception": false,
     "start_time": "2023-05-06T14:22:25.573703",
     "status": "completed"
    },
    "tags": []
   },
   "outputs": [
    {
     "data": {
      "application/javascript": [
       "parent.postMessage({\"jupyterEvent\": \"custom.exercise_interaction\", \"data\": {\"outcomeType\": 1, \"valueTowardsCompletion\": 1.0, \"interactionType\": 1, \"questionType\": 2, \"questionId\": \"4.2_PredsCodeB\", \"learnToolsVersion\": \"0.3.4\", \"failureMessage\": \"\", \"exceptionClass\": \"\", \"trace\": \"\"}}, \"*\")"
      ],
      "text/plain": [
       "<IPython.core.display.Javascript object>"
      ]
     },
     "metadata": {},
     "output_type": "display_data"
    },
    {
     "data": {
      "text/markdown": [
       "<span style=\"color:#33cc33\">Correct</span>"
      ],
      "text/plain": [
       "Correct"
      ]
     },
     "metadata": {},
     "output_type": "display_data"
    }
   ],
   "source": [
    "# Fill in the line below: preprocess test data\n",
    "X_test_dropped = X_test.drop(['MasVnrArea', 'LotFrontage'], axis=1)\n",
    "final_X_test = pd.DataFrame(imputer.fit_transform(X_test_dropped))\n",
    "\n",
    "# Fill in the line below: get test predictions\n",
    "preds_test = model.predict(final_X_test)\n",
    "\n",
    "# Check your answers\n",
    "step_4.b.check()"
   ]
  },
  {
   "cell_type": "code",
   "execution_count": 22,
   "id": "d16c5e4a",
   "metadata": {
    "execution": {
     "iopub.execute_input": "2023-05-06T14:22:25.668005Z",
     "iopub.status.busy": "2023-05-06T14:22:25.667215Z",
     "iopub.status.idle": "2023-05-06T14:22:25.672079Z",
     "shell.execute_reply": "2023-05-06T14:22:25.670907Z"
    },
    "papermill": {
     "duration": 0.019319,
     "end_time": "2023-05-06T14:22:25.674305",
     "exception": false,
     "start_time": "2023-05-06T14:22:25.654986",
     "status": "completed"
    },
    "tags": []
   },
   "outputs": [],
   "source": [
    "# Lines below will give you a hint or solution code\n",
    "#step_4.b.hint()\n",
    "#step_4.b.solution()"
   ]
  },
  {
   "cell_type": "markdown",
   "id": "0873b7da",
   "metadata": {
    "papermill": {
     "duration": 0.01044,
     "end_time": "2023-05-06T14:22:25.695594",
     "exception": false,
     "start_time": "2023-05-06T14:22:25.685154",
     "status": "completed"
    },
    "tags": []
   },
   "source": [
    "Run the next code cell without changes to save your results to a CSV file that can be submitted directly to the competition."
   ]
  },
  {
   "cell_type": "code",
   "execution_count": 23,
   "id": "f66e26c9",
   "metadata": {
    "execution": {
     "iopub.execute_input": "2023-05-06T14:22:25.719170Z",
     "iopub.status.busy": "2023-05-06T14:22:25.718809Z",
     "iopub.status.idle": "2023-05-06T14:22:25.732335Z",
     "shell.execute_reply": "2023-05-06T14:22:25.731280Z"
    },
    "papermill": {
     "duration": 0.028033,
     "end_time": "2023-05-06T14:22:25.734469",
     "exception": false,
     "start_time": "2023-05-06T14:22:25.706436",
     "status": "completed"
    },
    "tags": []
   },
   "outputs": [],
   "source": [
    "# Save test predictions to file\n",
    "output = pd.DataFrame({'Id': X_test.index,\n",
    "                       'SalePrice': preds_test})\n",
    "output.to_csv('submission.csv', index=False)"
   ]
  },
  {
   "cell_type": "markdown",
   "id": "3b09ebe6",
   "metadata": {
    "papermill": {
     "duration": 0.010534,
     "end_time": "2023-05-06T14:22:25.755901",
     "exception": false,
     "start_time": "2023-05-06T14:22:25.745367",
     "status": "completed"
    },
    "tags": []
   },
   "source": [
    "# Submit your results\n",
    "\n",
    "Once you have successfully completed Step 4, you're ready to submit your results to the leaderboard!  (_You also learned how to do this in the previous exercise.  If you need a reminder of how to do this, please use the instructions below._)  \n",
    "\n",
    "First, you'll need to join the competition if you haven't already.  So open a new window by clicking on [this link](https://www.kaggle.com/c/home-data-for-ml-course).  Then click on the **Join Competition** button.\n",
    "\n",
    "![join competition image](https://storage.googleapis.com/kaggle-media/learn/images/wLmFtH3.png)\n",
    "\n",
    "Next, follow the instructions below:\n",
    "1. Begin by clicking on the **Save Version** button in the top right corner of the window.  This will generate a pop-up window.  \n",
    "2. Ensure that the **Save and Run All** option is selected, and then click on the **Save** button.\n",
    "3. This generates a window in the bottom left corner of the notebook.  After it has finished running, click on the number to the right of the **Save Version** button.  This pulls up a list of versions on the right of the screen.  Click on the ellipsis **(...)** to the right of the most recent version, and select **Open in Viewer**.  This brings you into view mode of the same page. You will need to scroll down to get back to these instructions.\n",
    "4. Click on the **Data** tab near the top of the screen.  Then, click on the file you would like to submit, and click on the **Submit** button to submit your results to the leaderboard.\n",
    "\n",
    "You have now successfully submitted to the competition!\n",
    "\n",
    "If you want to keep working to improve your performance, select the **Edit** button in the top right of the screen. Then you can change your code and repeat the process. There's a lot of room to improve, and you will climb up the leaderboard as you work.\n",
    "\n",
    "\n",
    "# Keep going\n",
    "\n",
    "Move on to learn what **[categorical variables](https://www.kaggle.com/alexisbcook/categorical-variables)** are, along with how to incorporate them into your machine learning models.  Categorical variables are very common in real-world data, but you'll get an error if you try to plug them into your models without processing them first!"
   ]
  },
  {
   "cell_type": "markdown",
   "id": "e982e58d",
   "metadata": {
    "papermill": {
     "duration": 0.01051,
     "end_time": "2023-05-06T14:22:25.777221",
     "exception": false,
     "start_time": "2023-05-06T14:22:25.766711",
     "status": "completed"
    },
    "tags": []
   },
   "source": [
    "---\n",
    "\n",
    "\n",
    "\n",
    "\n",
    "*Have questions or comments? Visit the [course discussion forum](https://www.kaggle.com/learn/intermediate-machine-learning/discussion) to chat with other learners.*"
   ]
  }
 ],
 "metadata": {
  "kernelspec": {
   "display_name": "Python 3",
   "language": "python",
   "name": "python3"
  },
  "language_info": {
   "codemirror_mode": {
    "name": "ipython",
    "version": 3
   },
   "file_extension": ".py",
   "mimetype": "text/x-python",
   "name": "python",
   "nbconvert_exporter": "python",
   "pygments_lexer": "ipython3",
   "version": "3.10.10"
  },
  "papermill": {
   "default_parameters": {},
   "duration": 17.276409,
   "end_time": "2023-05-06T14:22:26.709488",
   "environment_variables": {},
   "exception": null,
   "input_path": "__notebook__.ipynb",
   "output_path": "__notebook__.ipynb",
   "parameters": {},
   "start_time": "2023-05-06T14:22:09.433079",
   "version": "2.4.0"
  }
 },
 "nbformat": 4,
 "nbformat_minor": 5
}
